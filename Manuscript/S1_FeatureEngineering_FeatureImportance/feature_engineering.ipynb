{
 "cells": [
  {
   "cell_type": "code",
   "execution_count": 46,
   "metadata": {},
   "outputs": [],
   "source": [
    "from sklearn.ensemble import RandomForestClassifier\n",
    "from sklearn import metrics\n",
    "from sklearn.feature_selection import RFECV\n",
    "from sklearn.model_selection import train_test_split, RandomizedSearchCV\n",
    "\n",
    "import pandas as pd\n",
    "import numpy as np\n",
    "import os\n",
    "import glob"
   ]
  },
  {
   "cell_type": "code",
   "execution_count": 47,
   "metadata": {},
   "outputs": [
    {
     "name": "stdout",
     "output_type": "stream",
     "text": [
      "Index(['area', 'equivalent_diameter', 'orientation', 'major_axis_length',\n",
      "       'minor_axis_length', 'perimeter', 'min_intensity', 'mean_intensity',\n",
      "       'max_intensity', 'solidity', 'eccentricity', 'centroid_local-0',\n",
      "       'centroid_local-1', 'feret_diameter_max', 'moments-0-0', 'moments-0-1',\n",
      "       'moments-0-2', 'moments-0-3', 'moments-1-0', 'moments-1-1',\n",
      "       'moments-1-2', 'moments-1-3', 'moments-2-0', 'moments-2-1',\n",
      "       'moments-2-2', 'moments-2-3', 'moments-3-0', 'moments-3-1',\n",
      "       'moments-3-2', 'moments-3-3', 'moments_central-0-0',\n",
      "       'moments_central-0-1', 'moments_central-0-2', 'moments_central-0-3',\n",
      "       'moments_central-1-0', 'moments_central-1-1', 'moments_central-1-2',\n",
      "       'moments_central-1-3', 'moments_central-2-0', 'moments_central-2-1',\n",
      "       'moments_central-2-2', 'moments_central-2-3', 'moments_central-3-0',\n",
      "       'moments_central-3-1', 'moments_central-3-2', 'moments_central-3-3',\n",
      "       'moments_hu-0', 'moments_hu-1', 'moments_hu-2', 'moments_hu-3',\n",
      "       'moments_hu-4', 'moments_hu-5', 'moments_hu-6',\n",
      "       'major_axis_length/minor_axis_length', 'perimeter/major_axis_length',\n",
      "       'perimeter/minor_axis_length', 'facet_score'],\n",
      "      dtype='object')\n"
     ]
    }
   ],
   "source": [
    "# Get data\n",
    "training_folder = os.path.join(\"..\",\"..\",\"ProcessedData\",\"Training_Data_20231106\")\n",
    "\n",
    "csv_list = glob.glob(os.path.join(training_folder,\"*\"))\n",
    "df_list = [pd.read_csv(csv,index_col=0) for csv in csv_list]\n",
    "\n",
    "# Process data\n",
    "df_total = pd.concat(df_list)\n",
    "df_total.reset_index(drop=True)\n",
    "df_total.replace([np.inf, -np.inf], np.nan, inplace=True)\n",
    "df_total.dropna(axis=0,inplace=True)\n",
    "df_total.drop(labels=[\"label\",\"Filename\",\"Region\"],axis=1,inplace=True)\n",
    "\n",
    "# Split\n",
    "X = df_total.drop(labels=\"Labels\",axis=1)\n",
    "y = df_total[\"Labels\"]\n",
    "print(X.columns)"
   ]
  },
  {
   "cell_type": "code",
   "execution_count": 48,
   "metadata": {},
   "outputs": [
    {
     "ename": "SyntaxError",
     "evalue": "unexpected EOF while parsing (38406961.py, line 13)",
     "output_type": "error",
     "traceback": [
      "\u001b[0;36m  Input \u001b[0;32mIn [48]\u001b[0;36m\u001b[0m\n\u001b[0;31m    ]\u001b[0m\n\u001b[0m     ^\u001b[0m\n\u001b[0;31mSyntaxError\u001b[0m\u001b[0;31m:\u001b[0m unexpected EOF while parsing\n"
     ]
    }
   ],
   "source": [
    "# Remove size- and intensity-aware features\n",
    "features_oi = [\n",
    "                'solidity',\n",
    "                'eccentricity',            \n",
    "                'moments_hu',\n",
    "                'major_axis_length/minor_axis_length',\n",
    "                'perimeter/major_axis_length',\n",
    "                'perimeter/minor_axis_length'\n",
    "                ]\n",
    "X = X[\n",
    "    v for v in X.columns.values \n",
    "        if any([v in feature for feature in features_oi])\n",
    "]"
   ]
  },
  {
   "cell_type": "code",
   "execution_count": null,
   "metadata": {},
   "outputs": [],
   "source": [
    "# Train-test sets\n",
    "X_train, X_test, y_train, y_test = train_test_split(X,y,train_size=.7,stratify=y)\n"
   ]
  },
  {
   "cell_type": "code",
   "execution_count": null,
   "metadata": {},
   "outputs": [],
   "source": [
    "# Define Model\n",
    "n_trees = 64\n",
    "samples_per_leaf = 3\n",
    "clf = RandomForestClassifier(n_estimators=n_trees,min_samples_leaf=samples_per_leaf,\n",
    "                             random_state=74)\n"
   ]
  },
  {
   "cell_type": "code",
   "execution_count": null,
   "metadata": {},
   "outputs": [],
   "source": [
    "rfecv = RFECV(clf,cv=5,scoring=\"f1_macro\",min_features_to_select=5)\n"
   ]
  },
  {
   "cell_type": "code",
   "execution_count": null,
   "metadata": {},
   "outputs": [
    {
     "data": {
      "text/html": [
       "<style>#sk-container-id-3 {color: black;background-color: white;}#sk-container-id-3 pre{padding: 0;}#sk-container-id-3 div.sk-toggleable {background-color: white;}#sk-container-id-3 label.sk-toggleable__label {cursor: pointer;display: block;width: 100%;margin-bottom: 0;padding: 0.3em;box-sizing: border-box;text-align: center;}#sk-container-id-3 label.sk-toggleable__label-arrow:before {content: \"▸\";float: left;margin-right: 0.25em;color: #696969;}#sk-container-id-3 label.sk-toggleable__label-arrow:hover:before {color: black;}#sk-container-id-3 div.sk-estimator:hover label.sk-toggleable__label-arrow:before {color: black;}#sk-container-id-3 div.sk-toggleable__content {max-height: 0;max-width: 0;overflow: hidden;text-align: left;background-color: #f0f8ff;}#sk-container-id-3 div.sk-toggleable__content pre {margin: 0.2em;color: black;border-radius: 0.25em;background-color: #f0f8ff;}#sk-container-id-3 input.sk-toggleable__control:checked~div.sk-toggleable__content {max-height: 200px;max-width: 100%;overflow: auto;}#sk-container-id-3 input.sk-toggleable__control:checked~label.sk-toggleable__label-arrow:before {content: \"▾\";}#sk-container-id-3 div.sk-estimator input.sk-toggleable__control:checked~label.sk-toggleable__label {background-color: #d4ebff;}#sk-container-id-3 div.sk-label input.sk-toggleable__control:checked~label.sk-toggleable__label {background-color: #d4ebff;}#sk-container-id-3 input.sk-hidden--visually {border: 0;clip: rect(1px 1px 1px 1px);clip: rect(1px, 1px, 1px, 1px);height: 1px;margin: -1px;overflow: hidden;padding: 0;position: absolute;width: 1px;}#sk-container-id-3 div.sk-estimator {font-family: monospace;background-color: #f0f8ff;border: 1px dotted black;border-radius: 0.25em;box-sizing: border-box;margin-bottom: 0.5em;}#sk-container-id-3 div.sk-estimator:hover {background-color: #d4ebff;}#sk-container-id-3 div.sk-parallel-item::after {content: \"\";width: 100%;border-bottom: 1px solid gray;flex-grow: 1;}#sk-container-id-3 div.sk-label:hover label.sk-toggleable__label {background-color: #d4ebff;}#sk-container-id-3 div.sk-serial::before {content: \"\";position: absolute;border-left: 1px solid gray;box-sizing: border-box;top: 0;bottom: 0;left: 50%;z-index: 0;}#sk-container-id-3 div.sk-serial {display: flex;flex-direction: column;align-items: center;background-color: white;padding-right: 0.2em;padding-left: 0.2em;position: relative;}#sk-container-id-3 div.sk-item {position: relative;z-index: 1;}#sk-container-id-3 div.sk-parallel {display: flex;align-items: stretch;justify-content: center;background-color: white;position: relative;}#sk-container-id-3 div.sk-item::before, #sk-container-id-3 div.sk-parallel-item::before {content: \"\";position: absolute;border-left: 1px solid gray;box-sizing: border-box;top: 0;bottom: 0;left: 50%;z-index: -1;}#sk-container-id-3 div.sk-parallel-item {display: flex;flex-direction: column;z-index: 1;position: relative;background-color: white;}#sk-container-id-3 div.sk-parallel-item:first-child::after {align-self: flex-end;width: 50%;}#sk-container-id-3 div.sk-parallel-item:last-child::after {align-self: flex-start;width: 50%;}#sk-container-id-3 div.sk-parallel-item:only-child::after {width: 0;}#sk-container-id-3 div.sk-dashed-wrapped {border: 1px dashed gray;margin: 0 0.4em 0.5em 0.4em;box-sizing: border-box;padding-bottom: 0.4em;background-color: white;}#sk-container-id-3 div.sk-label label {font-family: monospace;font-weight: bold;display: inline-block;line-height: 1.2em;}#sk-container-id-3 div.sk-label-container {text-align: center;}#sk-container-id-3 div.sk-container {/* jupyter's `normalize.less` sets `[hidden] { display: none; }` but bootstrap.min.css set `[hidden] { display: none !important; }` so we also need the `!important` here to be able to override the default hidden behavior on the sphinx rendered scikit-learn.org. See: https://github.com/scikit-learn/scikit-learn/issues/21755 */display: inline-block !important;position: relative;}#sk-container-id-3 div.sk-text-repr-fallback {display: none;}</style><div id=\"sk-container-id-3\" class=\"sk-top-container\"><div class=\"sk-text-repr-fallback\"><pre>RFECV(cv=5,\n",
       "      estimator=RandomForestClassifier(min_samples_leaf=3, n_estimators=64),\n",
       "      min_features_to_select=5, scoring=&#x27;f1_macro&#x27;)</pre><b>In a Jupyter environment, please rerun this cell to show the HTML representation or trust the notebook. <br />On GitHub, the HTML representation is unable to render, please try loading this page with nbviewer.org.</b></div><div class=\"sk-container\" hidden><div class=\"sk-item sk-dashed-wrapped\"><div class=\"sk-label-container\"><div class=\"sk-label sk-toggleable\"><input class=\"sk-toggleable__control sk-hidden--visually\" id=\"sk-estimator-id-5\" type=\"checkbox\" ><label for=\"sk-estimator-id-5\" class=\"sk-toggleable__label sk-toggleable__label-arrow\">RFECV</label><div class=\"sk-toggleable__content\"><pre>RFECV(cv=5,\n",
       "      estimator=RandomForestClassifier(min_samples_leaf=3, n_estimators=64),\n",
       "      min_features_to_select=5, scoring=&#x27;f1_macro&#x27;)</pre></div></div></div><div class=\"sk-parallel\"><div class=\"sk-parallel-item\"><div class=\"sk-item\"><div class=\"sk-label-container\"><div class=\"sk-label sk-toggleable\"><input class=\"sk-toggleable__control sk-hidden--visually\" id=\"sk-estimator-id-6\" type=\"checkbox\" ><label for=\"sk-estimator-id-6\" class=\"sk-toggleable__label sk-toggleable__label-arrow\">estimator: RandomForestClassifier</label><div class=\"sk-toggleable__content\"><pre>RandomForestClassifier(min_samples_leaf=3, n_estimators=64)</pre></div></div></div><div class=\"sk-serial\"><div class=\"sk-item\"><div class=\"sk-estimator sk-toggleable\"><input class=\"sk-toggleable__control sk-hidden--visually\" id=\"sk-estimator-id-7\" type=\"checkbox\" ><label for=\"sk-estimator-id-7\" class=\"sk-toggleable__label sk-toggleable__label-arrow\">RandomForestClassifier</label><div class=\"sk-toggleable__content\"><pre>RandomForestClassifier(min_samples_leaf=3, n_estimators=64)</pre></div></div></div></div></div></div></div></div></div></div>"
      ],
      "text/plain": [
       "RFECV(cv=5,\n",
       "      estimator=RandomForestClassifier(min_samples_leaf=3, n_estimators=64),\n",
       "      min_features_to_select=5, scoring='f1_macro')"
      ]
     },
     "execution_count": 33,
     "metadata": {},
     "output_type": "execute_result"
    }
   ],
   "source": [
    "rfecv.fit(X_train,y_train)"
   ]
  },
  {
   "cell_type": "code",
   "execution_count": null,
   "metadata": {},
   "outputs": [
    {
     "name": "stdout",
     "output_type": "stream",
     "text": [
      "[ 1  1  1  1  1  1  2  1  1  1  1  1 25  1  1 22 23  7  1 15 20  4  6 26\n",
      " 13  1 12 18 27 10  1 30  1  3 31 11  1 24 19 17  1  9  1  5 14 16  1  1\n",
      "  1  1 28  8 29  1  1  1 21  1]\n"
     ]
    },
    {
     "ename": "IndexError",
     "evalue": "boolean index did not match indexed array along dimension 0; dimension is 57 but corresponding boolean dimension is 58",
     "output_type": "error",
     "traceback": [
      "\u001b[0;31m---------------------------------------------------------------------------\u001b[0m",
      "\u001b[0;31mIndexError\u001b[0m                                Traceback (most recent call last)",
      "\u001b[1;32m/home/jacob/Desktop/Academics/Mirkin/colloidal_crystal_ML/ManuscriptFigures/S1_FeatureEngineering/feature_engineering.ipynb Cell 7\u001b[0m in \u001b[0;36m<cell line: 2>\u001b[0;34m()\u001b[0m\n\u001b[1;32m      <a href='vscode-notebook-cell:/home/jacob/Desktop/Academics/Mirkin/colloidal_crystal_ML/ManuscriptFigures/S1_FeatureEngineering/feature_engineering.ipynb#W6sZmlsZQ%3D%3D?line=0'>1</a>\u001b[0m \u001b[39mprint\u001b[39m(rfecv\u001b[39m.\u001b[39mranking_)\n\u001b[0;32m----> <a href='vscode-notebook-cell:/home/jacob/Desktop/Academics/Mirkin/colloidal_crystal_ML/ManuscriptFigures/S1_FeatureEngineering/feature_engineering.ipynb#W6sZmlsZQ%3D%3D?line=1'>2</a>\u001b[0m \u001b[39mset\u001b[39m(X\u001b[39m.\u001b[39mcolumns\u001b[39m.\u001b[39mvalues)\u001b[39m-\u001b[39m\u001b[39mset\u001b[39m(X\u001b[39m.\u001b[39;49mcolumns\u001b[39m.\u001b[39;49mvalues[rfecv\u001b[39m.\u001b[39;49msupport_])\n",
      "\u001b[0;31mIndexError\u001b[0m: boolean index did not match indexed array along dimension 0; dimension is 57 but corresponding boolean dimension is 58"
     ]
    }
   ],
   "source": [
    "print(rfecv.ranking_)\n",
    "set(X.columns.values)-set(X.columns.values[rfecv.support_])\n"
   ]
  }
 ],
 "metadata": {
  "kernelspec": {
   "display_name": "colloidal_crystal_env",
   "language": "python",
   "name": "python3"
  },
  "language_info": {
   "codemirror_mode": {
    "name": "ipython",
    "version": 3
   },
   "file_extension": ".py",
   "mimetype": "text/x-python",
   "name": "python",
   "nbconvert_exporter": "python",
   "pygments_lexer": "ipython3",
   "version": "3.9.13"
  }
 },
 "nbformat": 4,
 "nbformat_minor": 2
}
