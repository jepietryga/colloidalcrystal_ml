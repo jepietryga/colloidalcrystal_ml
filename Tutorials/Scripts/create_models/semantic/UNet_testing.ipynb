{
 "cells": [
  {
   "cell_type": "code",
   "execution_count": 1,
   "metadata": {},
   "outputs": [
    {
     "name": "stderr",
     "output_type": "stream",
     "text": [
      "c:\\Users\\Jacob\\miniconda3\\envs\\colloidal_crystal_env\\lib\\site-packages\\torchvision\\transforms\\v2\\_deprecated.py:41: UserWarning: The transform `ToTensor()` is deprecated and will be removed in a future release. Instead, please use `v2.Compose([v2.ToImage(), v2.ToDtype(torch.float32, scale=True)])`.\n",
      "  warnings.warn(\n"
     ]
    }
   ],
   "source": [
    "from facet_ml.classification import cnn\n",
    "\n",
    "from facet_ml.classification import cnn\n",
    "import torch\n",
    "from torch import nn\n",
    "import numpy as np\n",
    "from torchvision.models import resnet152\n",
    "from pathlib import Path\n",
    "import matplotlib.pyplot as plt\n"
   ]
  },
  {
   "cell_type": "code",
   "execution_count": 2,
   "metadata": {},
   "outputs": [
    {
     "name": "stdout",
     "output_type": "stream",
     "text": [
      "[[      0 1226692]\n",
      " [      1   84028]]\n",
      "[[     0 979019]\n",
      " [     1 331701]]\n",
      "[[     0 854550]\n",
      " [     1 456170]]\n",
      "[[      0 1262745]\n",
      " [      1   47975]]\n",
      "[[      0 1251303]\n",
      " [      1   59417]]\n",
      "[[     0 905640]\n",
      " [     1 405080]]\n"
     ]
    }
   ],
   "source": [
    "# train on the GPU or on the CPU, if a GPU is not available\n",
    "device = torch.device(\"cuda\") if torch.cuda.is_available() else torch.device(\"cpu\")\n",
    "\n",
    "data_folder = r\"C:\\Users\\Jacob\\Desktop\\Academics\\Mirkin\\colloidal_crystal_ML\\ProcessedData\\Coco_v5\"\n",
    "dataloaders, datasizes = cnn.load_colloidal_datasets_coco(\n",
    "    str(data_folder),\n",
    "    num_workers=16,\n",
    "    batch_size=20,\n",
    ")"
   ]
  },
  {
   "cell_type": "code",
   "execution_count": 3,
   "metadata": {},
   "outputs": [],
   "source": [
    "dl = dataloaders[\"train\"]\n",
    "test_images,test_labels = next(iter(dl))"
   ]
  },
  {
   "cell_type": "code",
   "execution_count": 4,
   "metadata": {},
   "outputs": [
    {
     "name": "stdout",
     "output_type": "stream",
     "text": [
      "[[      0 1226692]\n",
      " [      1   84028]]\n",
      "[[     0 979019]\n",
      " [     1 331701]]\n",
      "[[     0 854550]\n",
      " [     1 456170]]\n",
      "[[      0 1262745]\n",
      " [      1   47975]]\n",
      "80\n",
      "<class 'PIL.Image.Image'>\n"
     ]
    },
    {
     "data": {
      "text/plain": [
       "((256, 256, 3), torch.Size([256, 256]))"
      ]
     },
     "execution_count": 4,
     "metadata": {},
     "output_type": "execute_result"
    }
   ],
   "source": [
    "from facet_ml.classification import cnn\n",
    "dir_path = Path(data_folder)\n",
    "dataset = cnn.CocoColloidalDataset(str(dir_path / \"train\"),str(dir_path / \"train\" / \"_annotations.coco.json\"))\n",
    "print(len(dataset))\n",
    "print(type(dataset[1][0]))\n",
    "np.shape(dataset[1][0]), np.shape(dataset[1][1])"
   ]
  },
  {
   "cell_type": "code",
   "execution_count": 5,
   "metadata": {},
   "outputs": [],
   "source": [
    "# # images.shape,labels.shapetes\n",
    "# print(dl.dataset.dataset[0])\n",
    "# ii = 4\n",
    "# test_img, test_label = test_images[ii,0,:,:], test_labels[ii,:,:].to(\"cpu\")\n",
    "\n",
    "# figs,axes = plt.subplots(ncols=2)\n",
    "# axes[0].imshow(test_img)\n",
    "# axes[1].imshow(test_label)"
   ]
  },
  {
   "cell_type": "code",
   "execution_count": 6,
   "metadata": {},
   "outputs": [
    {
     "name": "stdout",
     "output_type": "stream",
     "text": [
      "Epoch 0/2\n",
      "----------\n",
      "train Loss: 0.5917 Acc: 54037.5750, (4323006/80)\n",
      "test Loss: 0.4679 Acc: 53923.5750, (2156943/40)\n",
      "\n",
      "Epoch 1/2\n",
      "----------\n",
      "train Loss: 0.4833 Acc: 54037.5750, (4323006/80)\n",
      "test Loss: 0.5096 Acc: 53923.5750, (2156943/40)\n",
      "\n",
      "Epoch 2/2\n",
      "----------\n",
      "train Loss: 0.4958 Acc: 54037.5750, (4323006/80)\n",
      "test Loss: 0.4797 Acc: 53923.5750, (2156943/40)\n",
      "\n",
      "Training complete in 6m 34s\n",
      "Best val Acc: 0.000000\n"
     ]
    }
   ],
   "source": [
    "import time\n",
    "from tempfile import TemporaryDirectory\n",
    "import os\n",
    "\n",
    "model = cnn.SegUNet(3)\n",
    "model.to(device=device)\n",
    "\n",
    "## Get model trianing information\n",
    "criterion = nn.BCEWithLogitsLoss()\n",
    "\n",
    "# construct an optimizer\n",
    "params = [p for p in model.parameters() if p.requires_grad]\n",
    "optimizer = torch.optim.SGD(params, \n",
    "                            lr=0.5, \n",
    "                            momentum=0.9, \n",
    "                            weight_decay=0.0001)\n",
    "\n",
    "# and a learning rate scheduler\n",
    "lr_scheduler = torch.optim.lr_scheduler.StepLR(optimizer, step_size=3, gamma=0.1)\n",
    "scheduler = lr_scheduler\n",
    "# Num epochs\n",
    "num_epochs = 3\n",
    "\n",
    "dataset_sizes = datasizes\n",
    "\n",
    "# Model loop\n",
    "    \n",
    "since = time.time()\n",
    "\n",
    "# Create a temporary directory to save training checkpoints\n",
    "loss_dict = {\"train\": [], \"test\": []}\n",
    "accuracy_dict = {\"train\": [], \"test\": []}\n",
    "with TemporaryDirectory() as tempdir:\n",
    "    best_model_params_path = os.path.join(tempdir, \"best_model_params.pt\")\n",
    "\n",
    "    torch.save(model.state_dict(), best_model_params_path)\n",
    "    best_acc = 0.0\n",
    "\n",
    "    for epoch in range(num_epochs):\n",
    "        print(f\"Epoch {epoch}/{num_epochs - 1}\")\n",
    "        print(\"-\" * 10)\n",
    "\n",
    "        # Each epoch has a training and validation phase\n",
    "        for phase in [\"train\", \"test\"]:\n",
    "            if phase == \"train\":\n",
    "                model.train()  # Set model to training mode\n",
    "            else:\n",
    "                model.eval()  # Set model to evaluate mode\n",
    "\n",
    "            running_loss = 0.0\n",
    "            running_corrects = 0\n",
    "\n",
    "            # Iterate over data.\n",
    "            for inputs, labels in dataloaders[phase]:\n",
    "                # inputs = torch.tensor(inputs)\n",
    "                # labels = torch.tensor(labels)\n",
    "                # print(inputs.shape, labels.shape)\n",
    "                inputs = inputs.to(device)\n",
    "\n",
    "                labels = labels.to(device).unsqueeze(1).float()\n",
    "\n",
    "                # zero the parameter gradients\n",
    "                optimizer.zero_grad()\n",
    "\n",
    "                # forward\n",
    "                # track history if only in train\n",
    "                with torch.set_grad_enabled(phase == \"train\"):\n",
    "                    outputs = model(inputs)\n",
    "                    preds = torch.sigmoid(outputs) > 0.5\n",
    "                    # print(\"Outputs and Preds\", outputs.shape, preds.shape)\n",
    "                    # print(list(zip(outputs, preds)))\n",
    "                    loss = criterion(outputs, labels)\n",
    "                    # print(loss)\n",
    "\n",
    "                    # backward + optimize only if in training phase\n",
    "                    if phase == \"train\":\n",
    "                        loss.backward()\n",
    "                        optimizer.step()\n",
    "\n",
    "                # statistics\n",
    "                running_loss += loss.item() * inputs.size(0)\n",
    "                running_corrects += torch.sum(preds == labels.data)\n",
    "            if phase == \"train\":\n",
    "                scheduler.step()\n",
    "\n",
    "            epoch_loss = running_loss / dataset_sizes[phase]\n",
    "            epoch_acc = (running_corrects.double() / dataset_sizes[phase]).cpu()\n",
    "\n",
    "            loss_dict[phase].append(epoch_loss)\n",
    "            accuracy_dict[phase].append(epoch_acc)\n",
    "\n",
    "            print(\n",
    "                f\"{phase} Loss: {epoch_loss:.4f} Acc: {epoch_acc:.4f}, ({running_corrects}/{dataset_sizes[phase]})\"\n",
    "            )\n",
    "\n",
    "            # deep copy the model\n",
    "            if phase == \"val\" and epoch_acc > best_acc:\n",
    "                best_acc = epoch_acc\n",
    "                torch.save(model.state_dict(), best_model_params_path)\n",
    "\n",
    "        print()\n",
    "\n",
    "    time_elapsed = time.time() - since\n",
    "    print(\n",
    "        f\"Training complete in {time_elapsed // 60:.0f}m {time_elapsed % 60:.0f}s\"\n",
    "    )\n",
    "    print(f\"Best val Acc: {best_acc:4f}\")\n",
    "\n",
    "    # load best model weights\n",
    "    model.load_state_dict(torch.load(best_model_params_path))\n"
   ]
  },
  {
   "cell_type": "code",
   "execution_count": 14,
   "metadata": {},
   "outputs": [
    {
     "name": "stdout",
     "output_type": "stream",
     "text": [
      "tensor(1., device='cuda:0') tensor(0., device='cuda:0')\n",
      "tensor(0, device='cuda:0') tensor(0, device='cuda:0')\n",
      "tensor(-2.0064) tensor(-1.9674)\n"
     ]
    },
    {
     "data": {
      "text/plain": [
       "<matplotlib.image.AxesImage at 0x20419012fd0>"
      ]
     },
     "execution_count": 14,
     "metadata": {},
     "output_type": "execute_result"
    },
    {
     "data": {
      "image/png": "[encoded data removed]",
      "text/plain": [
       "<Figure size 640x480 with 3 Axes>"
      ]
     },
     "metadata": {},
     "output_type": "display_data"
    }
   ],
   "source": [
    "print(torch.max(labels.data), torch.min(labels.data))\n",
    "print(torch.min(preds),torch.max(preds))\n",
    "patch_to_use = 6\n",
    "sample_input = inputs[patch_to_use,0,:,:].to(\"cpu\")\n",
    "sample_output = outputs[patch_to_use,0,:,:].to(\"cpu\")\n",
    "sample_label = labels[patch_to_use,0,:,:].to(\"cpu\")\n",
    "# print(outputs[0,0,:,:]) # torch.Size([2, 1, 256, 256])\n",
    "print(torch.min(sample_output),torch.max(sample_output))\n",
    "torch.sum(preds == labels.data)\n",
    "\n",
    "import matplotlib.pyplot as plt\n",
    "fig, axes = plt.subplots(ncols=3)\n",
    "\n",
    "axes[0].imshow(sample_input)\n",
    "axes[1].imshow(sample_output)\n",
    "axes[2].imshow(sample_label)"
   ]
  },
  {
   "cell_type": "code",
   "execution_count": 8,
   "metadata": {},
   "outputs": [
    {
     "name": "stdout",
     "output_type": "stream",
     "text": [
      "Outputs and Preds torch.Size([20, 1, 256, 256]) torch.Size([20, 256, 256])\n",
      "tensor(0.3142, device='cuda:0')\n",
      "tensor(0.3142, device='cuda:0')\n",
      "6.284034848213196\n",
      "tensor(23772080, device='cuda:0')\n",
      "19.187178015708923\n",
      "0.4796794503927231\n"
     ]
    }
   ],
   "source": [
    "outputs\n",
    "_, preds = torch.max(outputs, 1)\n",
    "print(\"Outputs and Preds\", outputs.shape, preds.shape)\n",
    "# print(list(zip(outputs, preds)))\n",
    "loss = criterion(outputs, labels)\n",
    "print(loss)\n",
    "print(loss)\n",
    "print(loss.item() * inputs.size(0))\n",
    "print(torch.sum(preds == labels.data))\n",
    "print(running_loss)\n",
    "print(running_loss / dataset_sizes[\"test\"])"
   ]
  },
  {
   "cell_type": "code",
   "execution_count": 9,
   "metadata": {},
   "outputs": [
    {
     "name": "stdout",
     "output_type": "stream",
     "text": [
      "Training complete in 0m 0s\n",
      "Best val Acc: 0.000000\n"
     ]
    }
   ],
   "source": [
    "# Load model\n",
    "# model = cnn.get_model(2, resnet152(weights=\"DEFAULT\"))\n",
    "# model = cnn.get_binary_model(2, resnet152(weights=\"DEFAULT\"))\n",
    "model = cnn.SegUNet(3)\n",
    "model.to(device=device)\n",
    "\n",
    "## Get model trianing information\n",
    "criterion = nn.CrossEntropyLoss()\n",
    "criterion = nn.BCEWithLogitsLoss()\n",
    "\n",
    "# construct an optimizer\n",
    "params = [p for p in model.parameters() if p.requires_grad]\n",
    "optimizer = torch.optim.SGD(params, \n",
    "                            lr=0.5, \n",
    "                            momentum=0.9, \n",
    "                            weight_decay=0.0001)\n",
    "\n",
    "# and a learning rate scheduler\n",
    "lr_scheduler = torch.optim.lr_scheduler.StepLR(optimizer, step_size=3, gamma=0.1)\n",
    "\n",
    "model, loss_dict, accuracy_dict = cnn.train_model_coco(\n",
    "    model,\n",
    "    criterion,\n",
    "    optimizer,\n",
    "    lr_scheduler,\n",
    "    num_epochs= 0,#50,\n",
    "    dataloaders=dataloaders,\n",
    "    dataset_sizes=datasizes,\n",
    ")\n"
   ]
  },
  {
   "cell_type": "code",
   "execution_count": 10,
   "metadata": {},
   "outputs": [],
   "source": [
    "import torch\n",
    "import torch.nn as nn\n",
    "import torch.nn.functional as F\n",
    "\n",
    "class UNet(nn.Module):\n",
    "    def __init__(self, in_channels, out_channels):\n",
    "        super(UNet, self).__init__()\n",
    "        \n",
    "        # Encoder\n",
    "        self.encoder1 = self._conv_block(in_channels, 64)\n",
    "        self.encoder2 = self._conv_block(64, 128)\n",
    "        self.encoder3 = self._conv_block(128, 256)\n",
    "        self.encoder4 = self._conv_block(256, 512)\n",
    "        \n",
    "        # Bottleneck\n",
    "        self.bottleneck = self._conv_block(512, 1024)\n",
    "        \n",
    "        # Decoder\n",
    "        self.upconv4 = self._upconv_block(1024, 512)\n",
    "        self.decoder4 = self._conv_block(1024, 512)\n",
    "        self.upconv3 = self._upconv_block(512, 256)\n",
    "        self.decoder3 = self._conv_block(512, 256)\n",
    "        self.upconv2 = self._upconv_block(256, 128)\n",
    "        self.decoder2 = self._conv_block(256, 128)\n",
    "        self.upconv1 = self._upconv_block(128, 64)\n",
    "        self.decoder1 = self._conv_block(128, 64)\n",
    "        \n",
    "        # Output layer\n",
    "        self.out_conv = nn.Conv2d(64, out_channels, kernel_size=1)\n",
    "    \n",
    "    def _conv_block(self, in_channels, out_channels):\n",
    "        return nn.Sequential(\n",
    "            nn.Conv2d(in_channels, out_channels, kernel_size=3, padding=1),\n",
    "            nn.ReLU(inplace=True),\n",
    "            nn.Conv2d(out_channels, out_channels, kernel_size=3, padding=1),\n",
    "            nn.ReLU(inplace=True)\n",
    "        )\n",
    "    \n",
    "    def _upconv_block(self, in_channels, out_channels):\n",
    "        return nn.Sequential(\n",
    "            nn.ConvTranspose2d(in_channels, out_channels, kernel_size=2, stride=2),\n",
    "            nn.ReLU(inplace=True)\n",
    "        )\n",
    "    \n",
    "    def forward(self, x):\n",
    "        # Encoder\n",
    "        enc1 = self.encoder1(x)\n",
    "        enc2 = self.encoder2(F.max_pool2d(enc1, 2))\n",
    "        enc3 = self.encoder3(F.max_pool2d(enc2, 2))\n",
    "        enc4 = self.encoder4(F.max_pool2d(enc3, 2))\n",
    "        \n",
    "        # Bottleneck\n",
    "        bottleneck = self.bottleneck(F.max_pool2d(enc4, 2))\n",
    "        \n",
    "        # Decoder\n",
    "        dec4 = self.upconv4(bottleneck)\n",
    "        dec4 = torch.cat((dec4, enc4), dim=1)\n",
    "        dec4 = self.decoder4(dec4)\n",
    "        \n",
    "        dec3 = self.upconv3(dec4)\n",
    "        dec3 = torch.cat((dec3, enc3), dim=1)\n",
    "        dec3 = self.decoder3(dec3)\n",
    "        \n",
    "        dec2 = self.upconv2(dec3)\n",
    "        dec2 = torch.cat((dec2, enc2), dim=1)\n",
    "        dec2 = self.decoder2(dec2)\n",
    "        \n",
    "        dec1 = self.upconv1(dec2)\n",
    "        dec1 = torch.cat((dec1, enc1), dim=1)\n",
    "        dec1 = self.decoder1(dec1)\n",
    "        \n",
    "        out = self.out_conv(dec1)\n",
    "        return out\n",
    "\n",
    "# Instantiate the model\n",
    "model = UNet(in_channels=3, out_channels=1)  # RGB input, binary output\n",
    "model =  cnn.SegUNet(3)"
   ]
  },
  {
   "cell_type": "code",
   "execution_count": 11,
   "metadata": {},
   "outputs": [],
   "source": [
    "import torch.optim as optim\n",
    "\n",
    "# Define the loss function and optimizer\n",
    "criterion = nn.BCEWithLogitsLoss()\n",
    "optimizer = optim.Adam(model.parameters(), lr=1e-4)\n",
    "\n",
    "# Training function\n",
    "def train_one_epoch(model, dataloader, criterion, optimizer, device):\n",
    "    model.train()\n",
    "    running_loss = 0.0\n",
    "    \n",
    "    for images, masks in dataloader:\n",
    "        images = images.to(device)\n",
    "        masks = masks.to(device).float()  # BCEWithLogitsLoss expects float type masks\n",
    "        \n",
    "        optimizer.zero_grad()\n",
    "        \n",
    "        outputs = model(images)\n",
    "        loss = criterion(outputs, masks.unsqueeze(1))  # Add channel dimension for masks\n",
    "        loss.backward()\n",
    "        optimizer.step()\n",
    "        \n",
    "        running_loss += loss.item()\n",
    "    \n",
    "    epoch_loss = running_loss / len(dataloader)\n",
    "    return epoch_loss\n",
    "\n",
    "# Set device\n",
    "device = torch.device(\"cuda\" if torch.cuda.is_available() else \"cpu\")\n",
    "model.to(device)\n",
    "\n",
    "# Train the model\n",
    "num_epochs = 0  # Adjust as needed\n",
    "for epoch in range(num_epochs):\n",
    "    train_loss = train_one_epoch(model, dataloaders[\"train\"], criterion, optimizer, device)\n",
    "    print(f\"Epoch {epoch+1}/{num_epochs}, Loss: {train_loss:.4f}\")\n",
    "\n",
    "# Save the model\n",
    "torch.save(model.state_dict(), 'unet_model.pth')\n"
   ]
  }
 ],
 "metadata": {
  "kernelspec": {
   "display_name": "colloidal_crystal_env",
   "language": "python",
   "name": "python3"
  },
  "language_info": {
   "codemirror_mode": {
    "name": "ipython",
    "version": 3
   },
   "file_extension": ".py",
   "mimetype": "text/x-python",
   "name": "python",
   "nbconvert_exporter": "python",
   "pygments_lexer": "ipython3",
   "version": "3.9.18"
  }
 },
 "nbformat": 4,
 "nbformat_minor": 2
}
