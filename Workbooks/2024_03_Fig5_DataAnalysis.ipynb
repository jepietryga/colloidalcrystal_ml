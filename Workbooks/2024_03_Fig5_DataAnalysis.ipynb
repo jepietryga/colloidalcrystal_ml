{
 "cells": [
  {
   "cell_type": "code",
   "execution_count": 1,
   "metadata": {},
   "outputs": [],
   "source": [
    "import pandas as pd\n",
    "import numpy as np\n",
    "import matplotlib.pyplot as plt\n",
    "from pathlib import Path\n",
    "import glob\n",
    "from os.path import join\n",
    "from facet_ml.classification.data_manipulation import create_formatted_df\n"
   ]
  },
  {
   "cell_type": "code",
   "execution_count": null,
   "metadata": {},
   "outputs": [],
   "source": [
    "## Load in the csvs from each folder\n",
    "\n",
    "# Folder: \n",
    "F5_folder  = Path(\"..\") / \"Results\" / \"Fig5_substrate_quenches_segment_anything\"\n",
    "\n",
    "# Load all csvs\n",
    "F5_csvs = glob.glob( join(str( F5_folder ),\"*\",\"*total*.csv\" ))\n",
    "\n",
    "# Make them into legible dataframes\n",
    "rows_F34 = []\n",
    "rows_F4 = []\n",
    "def csvs_to_detailed_df(csvs:list) -> pd.DataFrame:\n",
    "\n",
    "    df_list = []\n",
    "    for csv in csvs:\n",
    "        csv_path = Path(csv)\n",
    "        experiment_name = csv_path.parent.stem\n",
    "        df = create_formatted_df([csv],overwrite_string=experiment_name)\n",
    "        df_list.append(df)\n",
    "\n",
    "    df_master = pd.concat(df_list)\n",
    "    return df_master\n",
    "\n",
    "df_F5 = csvs_to_detailed_df(F5_csvs)                \n",
    "\n",
    "# Save these in the total folders for easier reference\n",
    "F5_save_path = str( F5_folder / \"F5_Total_data.csv\")\n",
    "df_F5.to_csv( F5_save_path )"
   ]
  }
 ],
 "metadata": {
  "kernelspec": {
   "display_name": "colloidal_crystal_env",
   "language": "python",
   "name": "python3"
  },
  "language_info": {
   "codemirror_mode": {
    "name": "ipython",
    "version": 3
   },
   "file_extension": ".py",
   "mimetype": "text/x-python",
   "name": "python",
   "nbconvert_exporter": "python",
   "pygments_lexer": "ipython3",
   "version": "3.9.18"
  }
 },
 "nbformat": 4,
 "nbformat_minor": 2
}
