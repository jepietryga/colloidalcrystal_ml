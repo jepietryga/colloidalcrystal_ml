{
 "cells": [
  {
   "cell_type": "code",
   "execution_count": 1,
   "metadata": {},
   "outputs": [],
   "source": [
    "# Figure 2 needs to create the images w/ thick region borders\n",
    "import sys\n",
    "import numpy as np\n",
    "sys.path.append(\"..\")\n",
    "import glob\n",
    "import os\n",
    "import matplotlib.pyplot as plt\n",
    "import cv2\n",
    "\n",
    "from facet_ml.segmentation.segmenter import ImageSegmenter\n",
    "\n",
    "parent_folder = \"../Images/Figure2_Images/\"\n",
    "image_folders = glob.glob(os.path.join(parent_folder,\"*\"))\n",
    "image_folders = [\"/Users/jacobpietryga/Desktop/Academics/colloidal_crystal_ML/Images/2023_12_02_Figure2_Images/COF_crystals\"]"
   ]
  },
  {
   "cell_type": "code",
   "execution_count": 2,
   "metadata": {},
   "outputs": [
    {
     "name": "stdout",
     "output_type": "stream",
     "text": [
      "(860, 1280)\n",
      "(860, 1280)\n",
      "(860, 1280)\n"
     ]
    },
    {
     "data": {
      "text/plain": [
       "array([[[204,   0, 102],\n",
       "        [204,   0, 102],\n",
       "        [204,   0, 102],\n",
       "        ...,\n",
       "        [204,   0, 102],\n",
       "        [204,   0, 102],\n",
       "        [204,   0, 102]],\n",
       "\n",
       "       [[204,   0, 102],\n",
       "        [204,   0, 102],\n",
       "        [204,   0, 102],\n",
       "        ...,\n",
       "        [204,   0, 102],\n",
       "        [204,   0, 102],\n",
       "        [204,   0, 102]],\n",
       "\n",
       "       [[204,   0, 102],\n",
       "        [204,   0, 102],\n",
       "        [204,   0, 102],\n",
       "        ...,\n",
       "        [204,   0, 102],\n",
       "        [204,   0, 102],\n",
       "        [204,   0, 102]],\n",
       "\n",
       "       ...,\n",
       "\n",
       "       [[204,   0, 102],\n",
       "        [ 92,  92,  92],\n",
       "        [ 91,  91,  91],\n",
       "        ...,\n",
       "        [ 89,  89,  89],\n",
       "        [ 89,  89,  89],\n",
       "        [204,   0, 102]],\n",
       "\n",
       "       [[204,   0, 102],\n",
       "        [ 90,  90,  90],\n",
       "        [ 88,  88,  88],\n",
       "        ...,\n",
       "        [ 86,  86,  86],\n",
       "        [ 89,  89,  89],\n",
       "        [204,   0, 102]],\n",
       "\n",
       "       [[204,   0, 102],\n",
       "        [204,   0, 102],\n",
       "        [204,   0, 102],\n",
       "        ...,\n",
       "        [204,   0, 102],\n",
       "        [204,   0, 102],\n",
       "        [204,   0, 102]]], dtype=uint8)"
      ]
     },
     "execution_count": 2,
     "metadata": {},
     "output_type": "execute_result"
    }
   ],
   "source": [
    "\n",
    "img_example = \"/Users/jacobpietryga/Desktop/Academics/colloidal_crystal_ML/Images/Training/4 nM 1.bmp\"\n",
    "\n",
    "def get_marked_image(img,\n",
    "                     threshold_mode=\"ensemble\",\n",
    "                     edge_modification=\"localthresh\"):\n",
    "    IS = ImageSegmenter(img,\n",
    "                        threshold_mode=threshold_mode,\n",
    "                        edge_modification=edge_modification)\n",
    "    IS.process_images()\n",
    "    markers2 = IS.markers2\n",
    "    edges = IS.markers2.copy()\n",
    "    edges[edges > 0] = 0\n",
    "    edges[edges < 0] = 255\n",
    "    edge_logical = edges.astype(np.uint8)\n",
    "    edge_logical = cv2.dilate(edge_logical,(3,3),iterations=5)\n",
    "    img_oi = IS.image_working.copy()\n",
    "    img_oi[edge_logical.astype(bool)] = (204,0,102)\n",
    "    return img_oi\n",
    "\n",
    "get_marked_image(img_example)"
   ]
  },
  {
   "cell_type": "code",
   "execution_count": 5,
   "metadata": {},
   "outputs": [
    {
     "name": "stdout",
     "output_type": "stream",
     "text": [
      "['/Users/jacobpietryga/Desktop/Academics/colloidal_crystal_ML/Images/2023_12_02_Figure2_Images/COF_crystals/an-aps-2023-1-screens-22_01.TIF', '/Users/jacobpietryga/Desktop/Academics/colloidal_crystal_ML/Images/2023_12_02_Figure2_Images/COF_crystals/20230816_11.TIF', '/Users/jacobpietryga/Desktop/Academics/colloidal_crystal_ML/Images/2023_12_02_Figure2_Images/COF_crystals/20230816_12.TIF', '/Users/jacobpietryga/Desktop/Academics/colloidal_crystal_ML/Images/2023_12_02_Figure2_Images/COF_crystals/an-aps-2023-1-screens-28_02.TIF', '/Users/jacobpietryga/Desktop/Academics/colloidal_crystal_ML/Images/2023_12_02_Figure2_Images/COF_crystals/an-2-4-repeat-90C-10min_01.TIF']\n",
      "(860, 1280)\n",
      "(860, 1280)\n",
      "(860, 1280)\n",
      "(860, 2560)\n",
      "(860, 2560)\n",
      "(860, 2560)\n",
      "(860, 2560)\n",
      "(860, 2560)\n",
      "(860, 2560)\n",
      "(860, 1280)\n",
      "(860, 1280)\n",
      "(860, 1280)\n",
      "(860, 1280)\n",
      "(860, 1280)\n",
      "(860, 1280)\n"
     ]
    }
   ],
   "source": [
    "threshold_mode = \"ensemble\"\n",
    "folder = f\"Fig2_{threshold_mode}\"\n",
    "for image_folder in image_folders:\n",
    "    subfolder= image_folder.split(\"/\")[-1]\n",
    "    images = glob.glob(os.path.join(image_folder,\"*\"))\n",
    "    print(images)\n",
    "    for image in images:\n",
    "        img_id = \".\".join(image.split(\"/\")[-1].split(\".\")[:-1])\n",
    "        folder_path = os.path.join(folder,subfolder)\n",
    "        os.makedirs(folder_path,exist_ok=True)\n",
    "        file_path = os.path.join(folder_path,f\"{img_id}.png\")\n",
    "        marked_img = get_marked_image(image,\n",
    "                                      threshold_mode=threshold_mode)\n",
    "        cv2.imwrite(file_path,marked_img)\n",
    "        \n"
   ]
  },
  {
   "cell_type": "code",
   "execution_count": 4,
   "metadata": {},
   "outputs": [
    {
     "data": {
      "text/plain": [
       "['/Users/jacobpietryga/Desktop/Academics/colloidal_crystal_ML/Images/2023_12_02_Figure2_Images/COF_crystals']"
      ]
     },
     "execution_count": 4,
     "metadata": {},
     "output_type": "execute_result"
    }
   ],
   "source": [
    "image_folders"
   ]
  }
 ],
 "metadata": {
  "kernelspec": {
   "display_name": "colloidal_crystal_env",
   "language": "python",
   "name": "python3"
  },
  "language_info": {
   "codemirror_mode": {
    "name": "ipython",
    "version": 3
   },
   "file_extension": ".py",
   "mimetype": "text/x-python",
   "name": "python",
   "nbconvert_exporter": "python",
   "pygments_lexer": "ipython3",
   "version": "3.10.12"
  },
  "orig_nbformat": 4
 },
 "nbformat": 4,
 "nbformat_minor": 2
}
